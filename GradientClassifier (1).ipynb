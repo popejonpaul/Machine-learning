{
 "cells": [
  {
   "cell_type": "code",
   "execution_count": 1,
   "id": "9379b784-712f-45d2-a4f3-158831baccde",
   "metadata": {},
   "outputs": [],
   "source": [
    "import xgboost as xgb\n",
    "from sklearn.model_selection import train_test_split\n",
    "from sklearn.preprocessing import OrdinalEncoder\n",
    "from sklearn import metrics\n",
    "from sklearn.metrics import mean_squared_error\n",
    "from sklearn.metrics import classification_report\n",
    "from sklearn.metrics import confusion_matrix\n",
    "\n",
    "import pandas as pd\n",
    "import numpy as np\n",
    "\n",
    "import warnings\n",
    "warnings.filterwarnings(\"ignore\")\n"
   ]
  },
  {
   "cell_type": "code",
   "execution_count": 3,
   "id": "219f971e-cd61-4a08-939b-80f87285959a",
   "metadata": {},
   "outputs": [
    {
     "data": {
      "text/html": [
       "<div>\n",
       "<style scoped>\n",
       "    .dataframe tbody tr th:only-of-type {\n",
       "        vertical-align: middle;\n",
       "    }\n",
       "\n",
       "    .dataframe tbody tr th {\n",
       "        vertical-align: top;\n",
       "    }\n",
       "\n",
       "    .dataframe thead th {\n",
       "        text-align: right;\n",
       "    }\n",
       "</style>\n",
       "<table border=\"1\" class=\"dataframe\">\n",
       "  <thead>\n",
       "    <tr style=\"text-align: right;\">\n",
       "      <th></th>\n",
       "      <th>carat</th>\n",
       "      <th>cut</th>\n",
       "      <th>color</th>\n",
       "      <th>clarity</th>\n",
       "      <th>depth</th>\n",
       "      <th>table</th>\n",
       "      <th>price</th>\n",
       "      <th>x</th>\n",
       "      <th>y</th>\n",
       "      <th>z</th>\n",
       "    </tr>\n",
       "  </thead>\n",
       "  <tbody>\n",
       "    <tr>\n",
       "      <th>41028</th>\n",
       "      <td>0.41</td>\n",
       "      <td>Ideal</td>\n",
       "      <td>E</td>\n",
       "      <td>VVS2</td>\n",
       "      <td>61.0</td>\n",
       "      <td>56.0</td>\n",
       "      <td>1187</td>\n",
       "      <td>4.79</td>\n",
       "      <td>4.82</td>\n",
       "      <td>2.93</td>\n",
       "    </tr>\n",
       "    <tr>\n",
       "      <th>42037</th>\n",
       "      <td>0.51</td>\n",
       "      <td>Ideal</td>\n",
       "      <td>I</td>\n",
       "      <td>VS2</td>\n",
       "      <td>60.5</td>\n",
       "      <td>58.0</td>\n",
       "      <td>1268</td>\n",
       "      <td>5.15</td>\n",
       "      <td>5.20</td>\n",
       "      <td>3.13</td>\n",
       "    </tr>\n",
       "    <tr>\n",
       "      <th>19910</th>\n",
       "      <td>1.21</td>\n",
       "      <td>Premium</td>\n",
       "      <td>G</td>\n",
       "      <td>VS1</td>\n",
       "      <td>62.7</td>\n",
       "      <td>58.0</td>\n",
       "      <td>8456</td>\n",
       "      <td>6.79</td>\n",
       "      <td>6.74</td>\n",
       "      <td>4.24</td>\n",
       "    </tr>\n",
       "    <tr>\n",
       "      <th>43507</th>\n",
       "      <td>0.43</td>\n",
       "      <td>Ideal</td>\n",
       "      <td>F</td>\n",
       "      <td>VVS1</td>\n",
       "      <td>62.0</td>\n",
       "      <td>57.0</td>\n",
       "      <td>1422</td>\n",
       "      <td>4.84</td>\n",
       "      <td>4.81</td>\n",
       "      <td>2.99</td>\n",
       "    </tr>\n",
       "    <tr>\n",
       "      <th>22448</th>\n",
       "      <td>1.72</td>\n",
       "      <td>Very Good</td>\n",
       "      <td>J</td>\n",
       "      <td>VS2</td>\n",
       "      <td>60.9</td>\n",
       "      <td>61.0</td>\n",
       "      <td>10477</td>\n",
       "      <td>7.77</td>\n",
       "      <td>7.79</td>\n",
       "      <td>4.74</td>\n",
       "    </tr>\n",
       "  </tbody>\n",
       "</table>\n",
       "</div>"
      ],
      "text/plain": [
       "       carat        cut color clarity  depth  table  price     x     y     z\n",
       "41028   0.41      Ideal     E    VVS2   61.0   56.0   1187  4.79  4.82  2.93\n",
       "42037   0.51      Ideal     I     VS2   60.5   58.0   1268  5.15  5.20  3.13\n",
       "19910   1.21    Premium     G     VS1   62.7   58.0   8456  6.79  6.74  4.24\n",
       "43507   0.43      Ideal     F    VVS1   62.0   57.0   1422  4.84  4.81  2.99\n",
       "22448   1.72  Very Good     J     VS2   60.9   61.0  10477  7.77  7.79  4.74"
      ]
     },
     "execution_count": 3,
     "metadata": {},
     "output_type": "execute_result"
    }
   ],
   "source": [
    "diamonds = pd.read_csv(\"seaborn_diamonds_dataset.csv\")\n",
    "diamonds.sample(5)"
   ]
  },
  {
   "cell_type": "code",
   "execution_count": 4,
   "id": "abff3070-3e66-40cc-9e01-a0bf08fb6dd3",
   "metadata": {},
   "outputs": [
    {
     "data": {
      "text/plain": [
       "carat      float64\n",
       "cut         object\n",
       "color       object\n",
       "clarity     object\n",
       "depth      float64\n",
       "table      float64\n",
       "price        int64\n",
       "x          float64\n",
       "y          float64\n",
       "z          float64\n",
       "dtype: object"
      ]
     },
     "execution_count": 4,
     "metadata": {},
     "output_type": "execute_result"
    }
   ],
   "source": [
    "diamonds.dtypes"
   ]
  },
  {
   "cell_type": "code",
   "execution_count": 8,
   "id": "12d11721-cf96-4e1f-a409-d2e78795ce2e",
   "metadata": {},
   "outputs": [
    {
     "data": {
      "text/plain": [
       "carat       float64\n",
       "cut        category\n",
       "color      category\n",
       "clarity    category\n",
       "depth       float64\n",
       "table       float64\n",
       "price         int64\n",
       "x           float64\n",
       "y           float64\n",
       "z           float64\n",
       "dtype: object"
      ]
     },
     "execution_count": 8,
     "metadata": {},
     "output_type": "execute_result"
    }
   ],
   "source": [
    "categories=diamonds.select_dtypes(exclude=np.number).columns.tolist()\n",
    "for col in categories:\n",
    "    diamonds[col]=diamonds[col].astype('category')\n",
    "\n",
    "diamonds.dtypes"
   ]
  },
  {
   "cell_type": "code",
   "execution_count": 9,
   "id": "cc1dbc90-0217-459b-a65b-c1bb5d629c97",
   "metadata": {},
   "outputs": [
    {
     "name": "stdout",
     "output_type": "stream",
     "text": [
      "       carat color clarity  depth  table  price     x     y     z\n",
      "49225   0.58     E     VS1   61.8   55.0   2082  5.35  5.39  3.32\n",
      "14808   1.21     I     VS2   62.3   58.0   5962  6.82  6.79  4.24\n",
      "53517   0.71     F     VS2   62.4   59.0   2686  5.71  5.66  3.55\n",
      "4417    1.01     E     SI2   63.9   58.0   3611  6.37  6.31  4.05\n",
      "43030   0.50     G     VS2   62.8   56.0   1373  5.05  5.08  3.18\n",
      "             cut\n",
      "20658      Ideal\n",
      "38658    Premium\n",
      "43181  Very Good\n",
      "17688    Premium\n",
      "20996      Ideal\n"
     ]
    }
   ],
   "source": [
    "X_clf=diamonds.drop('cut',axis=1)\n",
    "y_clf=diamonds[['cut']]\n",
    "\n",
    "print(X_clf.sample(5))\n",
    "print(y_clf.sample(5))\n"
   ]
  },
  {
   "cell_type": "code",
   "execution_count": 10,
   "id": "5d1d8dfe-2d6f-4471-a73e-4cf183bcb8a5",
   "metadata": {},
   "outputs": [
    {
     "data": {
      "text/plain": [
       "dtype('float64')"
      ]
     },
     "execution_count": 10,
     "metadata": {},
     "output_type": "execute_result"
    }
   ],
   "source": [
    "enc=OrdinalEncoder()\n",
    "y_encoded_clf=enc.fit_transform(y_clf)\n",
    "y_encoded_clf.dtype"
   ]
  },
  {
   "cell_type": "code",
   "execution_count": 20,
   "id": "2597b6b7-14a4-46ca-bebf-f4f918ee3234",
   "metadata": {},
   "outputs": [],
   "source": [
    "X_train_clf, X_test_clf, y_train_clf, y_test_clf = train_test_split(X_clf, y_encoded_clf, test_size=0.25, random_state=1,stratify=y_encoded_clf)"
   ]
  },
  {
   "cell_type": "code",
   "execution_count": 21,
   "id": "5feab784-15e1-44d9-a903-029a97cd04b3",
   "metadata": {},
   "outputs": [
    {
     "name": "stdout",
     "output_type": "stream",
     "text": [
      "(40455, 9) (13485, 9) (40455, 1) (13485, 1)\n"
     ]
    }
   ],
   "source": [
    "print(X_train_clf.shape, X_test_clf.shape, y_train_clf.shape, y_test_clf.shape)"
   ]
  },
  {
   "cell_type": "code",
   "execution_count": 22,
   "id": "c2840c33-a7f4-45cc-81ef-326ee28055e1",
   "metadata": {},
   "outputs": [],
   "source": [
    "dtrain_clf= xgb.DMatrix(X_train_clf, y_train_clf, enable_categorical = True)\n",
    "dtest_clf = xgb.DMatrix(X_test_clf, y_test_clf, enable_categorical= True)"
   ]
  },
  {
   "cell_type": "code",
   "execution_count": 23,
   "id": "c8aebdbd-80f9-4330-a229-c8c052cd6265",
   "metadata": {},
   "outputs": [],
   "source": [
    "parameters={\n",
    "    \"objective\":\"multi:softprob\",\n",
    "    \"tree_method\":\"hist\",\n",
    "    \"num_class\":5,\n",
    "    \"eval_metric\":[\"mlogloss\",\"auc\",\"merror\"]\n",
    "}\n",
    "\n",
    "n=100"
   ]
  },
  {
   "cell_type": "code",
   "execution_count": 24,
   "id": "77c67b04-610c-4be0-bce5-2dacd2ed9cb6",
   "metadata": {},
   "outputs": [],
   "source": [
    "model_clf=xgb.train(\n",
    "    params=parameters,\n",
    "    dtrain=dtrain_clf,\n",
    "    num_boost_round=n\n",
    ")"
   ]
  },
  {
   "cell_type": "code",
   "execution_count": 25,
   "id": "4a7d75e4-5f6e-4ccd-8cb1-0a4f8cb4d92d",
   "metadata": {},
   "outputs": [],
   "source": [
    "#missed\n"
   ]
  },
  {
   "cell_type": "code",
   "execution_count": 27,
   "id": "49c94f25-6bc5-463b-abf1-e82544bcdd54",
   "metadata": {},
   "outputs": [
    {
     "name": "stdout",
     "output_type": "stream",
     "text": [
      "       carat        cut color clarity  depth  table     x     y     z\n",
      "40045   0.54       Good     E     SI2   63.9   54.0  5.18  5.12  3.29\n",
      "8635    1.07  Very Good     I     SI1   62.6   58.0  6.49  6.57  4.09\n",
      "24329   2.00      Ideal     H     SI2   61.5   57.0  8.04  8.00  4.93\n",
      "5891    0.90    Premium     I    VVS2   58.3   60.0  6.32  6.28  3.67\n",
      "32511   0.40       Good     E     SI2   63.9   57.0  4.71  4.65  2.99\n",
      "       price\n",
      "36948    479\n",
      "24034    633\n",
      "47297    394\n",
      "43607    507\n",
      "48126   1939\n"
     ]
    }
   ],
   "source": [
    "X_reg =diamonds.drop('price',axis=1)\n",
    "y_reg=diamonds[['price']]\n",
    "\n",
    "print(X_reg.sample(5))\n",
    "print(y_reg.sample(5))"
   ]
  },
  {
   "cell_type": "code",
   "execution_count": 28,
   "id": "18e2cc11-3bc7-4037-b7e4-56c221bbd7bf",
   "metadata": {},
   "outputs": [],
   "source": [
    "X_train_reg, X_test_reg, y_train_reg, y_test_reg = train_test_split(X_reg, y_reg, test_size=0.25, random_state=1)"
   ]
  },
  {
   "cell_type": "code",
   "execution_count": 49,
   "id": "ad694e32-99a7-4669-a69c-8cf145bbdeb5",
   "metadata": {},
   "outputs": [],
   "source": [
    "dtrain_reg=xgb.DMatrix(X_train_reg, y_train_reg, enable_categorical=True)\n",
    "dtest_reg = xgb.DMatrix(X_test_reg, y_test_reg, enable_categorical=True)"
   ]
  },
  {
   "cell_type": "code",
   "execution_count": 50,
   "id": "a1e9f533-1db8-4801-b56a-4b11aa94b86f",
   "metadata": {},
   "outputs": [],
   "source": [
    "parameters={\n",
    "    \"objective\": \"reg:squarederror\",\n",
    "    \"tree_method\": \"hist\"}\n",
    "\n",
    "n=100"
   ]
  },
  {
   "cell_type": "code",
   "execution_count": 62,
   "id": "22380155-0bc5-400d-9c3b-7f17648b590c",
   "metadata": {},
   "outputs": [
    {
     "data": {
      "text/html": [
       "<div>\n",
       "<style scoped>\n",
       "    .dataframe tbody tr th:only-of-type {\n",
       "        vertical-align: middle;\n",
       "    }\n",
       "\n",
       "    .dataframe tbody tr th {\n",
       "        vertical-align: top;\n",
       "    }\n",
       "\n",
       "    .dataframe thead th {\n",
       "        text-align: right;\n",
       "    }\n",
       "</style>\n",
       "<table border=\"1\" class=\"dataframe\">\n",
       "  <thead>\n",
       "    <tr style=\"text-align: right;\">\n",
       "      <th></th>\n",
       "      <th>0</th>\n",
       "    </tr>\n",
       "  </thead>\n",
       "  <tbody>\n",
       "    <tr>\n",
       "      <th>0</th>\n",
       "      <td>478.662018</td>\n",
       "    </tr>\n",
       "    <tr>\n",
       "      <th>1</th>\n",
       "      <td>5764.281738</td>\n",
       "    </tr>\n",
       "    <tr>\n",
       "      <th>2</th>\n",
       "      <td>2823.106689</td>\n",
       "    </tr>\n",
       "    <tr>\n",
       "      <th>3</th>\n",
       "      <td>527.639648</td>\n",
       "    </tr>\n",
       "    <tr>\n",
       "      <th>4</th>\n",
       "      <td>6267.396973</td>\n",
       "    </tr>\n",
       "    <tr>\n",
       "      <th>...</th>\n",
       "      <td>...</td>\n",
       "    </tr>\n",
       "    <tr>\n",
       "      <th>13480</th>\n",
       "      <td>2215.891846</td>\n",
       "    </tr>\n",
       "    <tr>\n",
       "      <th>13481</th>\n",
       "      <td>958.218811</td>\n",
       "    </tr>\n",
       "    <tr>\n",
       "      <th>13482</th>\n",
       "      <td>3661.878906</td>\n",
       "    </tr>\n",
       "    <tr>\n",
       "      <th>13483</th>\n",
       "      <td>3771.973389</td>\n",
       "    </tr>\n",
       "    <tr>\n",
       "      <th>13484</th>\n",
       "      <td>1217.223877</td>\n",
       "    </tr>\n",
       "  </tbody>\n",
       "</table>\n",
       "<p>13485 rows × 1 columns</p>\n",
       "</div>"
      ],
      "text/plain": [
       "                 0\n",
       "0       478.662018\n",
       "1      5764.281738\n",
       "2      2823.106689\n",
       "3       527.639648\n",
       "4      6267.396973\n",
       "...            ...\n",
       "13480  2215.891846\n",
       "13481   958.218811\n",
       "13482  3661.878906\n",
       "13483  3771.973389\n",
       "13484  1217.223877\n",
       "\n",
       "[13485 rows x 1 columns]"
      ]
     },
     "execution_count": 62,
     "metadata": {},
     "output_type": "execute_result"
    }
   ],
   "source": [
    "model_reg=xgb.train(\n",
    "    params = parameters,\n",
    "    dtrain = dtrain_reg,\n",
    "    num_boost_round=n)\n",
    "\n",
    "predictions_reg=model_reg.predict(dtest_reg)\n",
    "pd.DataFrame(predictions_reg)"
   ]
  },
  {
   "cell_type": "code",
   "execution_count": 63,
   "id": "fca91f98-3c90-48a6-9794-cf1e9e045c55",
   "metadata": {},
   "outputs": [
    {
     "name": "stdout",
     "output_type": "stream",
     "text": [
      "RMSE of our model: 552.861\n"
     ]
    }
   ],
   "source": [
    "rmse=mean_squared_error(y_test_reg,predictions_reg,squared=False)\n",
    "print(f\"RMSE of our model: {rmse:.3f}\")"
   ]
  },
  {
   "cell_type": "code",
   "execution_count": 64,
   "id": "6f4c03f6-b0b5-4ee9-9be9-576e0404a7c3",
   "metadata": {},
   "outputs": [],
   "source": [
    "evals= [(dtrain_reg, \"train\"),(dtest_reg,\"validation\")]\n",
    "\n",
    "parameters={\n",
    "    \"objective\": \"reg:squarederror\",\n",
    "    \"tree_method\": \"hist\"}\n",
    "\n",
    "n=100"
   ]
  },
  {
   "cell_type": "code",
   "execution_count": 65,
   "id": "35a33a0b-a544-4f67-9a9a-d03e99a4f64e",
   "metadata": {},
   "outputs": [
    {
     "name": "stdout",
     "output_type": "stream",
     "text": [
      "[0]\ttrain-rmse:2874.49146\tvalidation-rmse:2817.90814\n",
      "[10]\ttrain-rmse:548.36512\tvalidation-rmse:592.03160\n",
      "[20]\ttrain-rmse:491.09887\tvalidation-rmse:558.53485\n",
      "[30]\ttrain-rmse:469.58201\tvalidation-rmse:555.51015\n",
      "[40]\ttrain-rmse:454.32953\tvalidation-rmse:554.45666\n",
      "[50]\ttrain-rmse:438.68033\tvalidation-rmse:554.13365\n",
      "[60]\ttrain-rmse:425.38361\tvalidation-rmse:551.57888\n",
      "[70]\ttrain-rmse:414.71115\tvalidation-rmse:549.26109\n",
      "[80]\ttrain-rmse:405.41008\tvalidation-rmse:549.03952\n",
      "[90]\ttrain-rmse:391.04269\tvalidation-rmse:551.87206\n",
      "[99]\ttrain-rmse:383.48826\tvalidation-rmse:552.86131\n"
     ]
    }
   ],
   "source": [
    "model_reg=xgb.train(\n",
    "    params = parameters,\n",
    "    dtrain = dtrain_reg,\n",
    "    num_boost_round=n,\n",
    "    evals=evals,\n",
    "    verbose_eval=10\n",
    ")"
   ]
  },
  {
   "cell_type": "code",
   "execution_count": 66,
   "id": "f20dbec9-62a6-41d9-8a68-f61fd17c26b5",
   "metadata": {},
   "outputs": [
    {
     "name": "stdout",
     "output_type": "stream",
     "text": [
      "[0]\ttrain-rmse:2874.49146\tvalidation-rmse:2817.90814\n",
      "[250]\ttrain-rmse:283.21559\tvalidation-rmse:557.61263\n",
      "[500]\ttrain-rmse:201.44074\tvalidation-rmse:564.77532\n",
      "[750]\ttrain-rmse:155.76096\tvalidation-rmse:570.41258\n",
      "[1000]\ttrain-rmse:127.04692\tvalidation-rmse:574.22590\n",
      "[1250]\ttrain-rmse:105.13407\tvalidation-rmse:575.74609\n",
      "[1500]\ttrain-rmse:87.17633\tvalidation-rmse:577.88702\n",
      "[1750]\ttrain-rmse:75.08646\tvalidation-rmse:578.86698\n",
      "[2000]\ttrain-rmse:64.86890\tvalidation-rmse:579.64879\n",
      "[2250]\ttrain-rmse:56.54684\tvalidation-rmse:580.07445\n",
      "[2500]\ttrain-rmse:50.04183\tvalidation-rmse:580.65263\n",
      "[2750]\ttrain-rmse:44.39520\tvalidation-rmse:581.19185\n",
      "[3000]\ttrain-rmse:39.38436\tvalidation-rmse:581.63495\n",
      "[3250]\ttrain-rmse:35.32653\tvalidation-rmse:582.03607\n",
      "[3500]\ttrain-rmse:31.85327\tvalidation-rmse:582.04309\n",
      "[3750]\ttrain-rmse:28.94276\tvalidation-rmse:582.38781\n",
      "[4000]\ttrain-rmse:26.57816\tvalidation-rmse:582.60757\n",
      "[4250]\ttrain-rmse:24.39706\tvalidation-rmse:582.65767\n",
      "[4500]\ttrain-rmse:22.47317\tvalidation-rmse:582.92145\n",
      "[4750]\ttrain-rmse:20.83137\tvalidation-rmse:583.01244\n",
      "[4999]\ttrain-rmse:19.43452\tvalidation-rmse:583.12697\n"
     ]
    }
   ],
   "source": [
    "n=5000\n",
    "model_reg=xgb.train(\n",
    "    params = parameters,\n",
    "    dtrain = dtrain_reg,\n",
    "    num_boost_round=n,\n",
    "    evals=evals,\n",
    "    verbose_eval=250\n",
    ")\n"
   ]
  },
  {
   "cell_type": "code",
   "execution_count": 67,
   "id": "1c651145-7fee-43aa-a2ed-439ac690c3c7",
   "metadata": {},
   "outputs": [],
   "source": [
    "parameters={\n",
    "    \"objective\": \"reg:squarederror\",\n",
    "    \"tree_method\": \"hist\"}\n",
    "\n",
    "n=100"
   ]
  },
  {
   "cell_type": "code",
   "execution_count": 68,
   "id": "405fc936-6abf-4922-ab77-ad6855656af3",
   "metadata": {},
   "outputs": [
    {
     "data": {
      "text/html": [
       "<div>\n",
       "<style scoped>\n",
       "    .dataframe tbody tr th:only-of-type {\n",
       "        vertical-align: middle;\n",
       "    }\n",
       "\n",
       "    .dataframe tbody tr th {\n",
       "        vertical-align: top;\n",
       "    }\n",
       "\n",
       "    .dataframe thead th {\n",
       "        text-align: right;\n",
       "    }\n",
       "</style>\n",
       "<table border=\"1\" class=\"dataframe\">\n",
       "  <thead>\n",
       "    <tr style=\"text-align: right;\">\n",
       "      <th></th>\n",
       "      <th>train-rmse-mean</th>\n",
       "      <th>train-rmse-std</th>\n",
       "      <th>test-rmse-mean</th>\n",
       "      <th>test-rmse-std</th>\n",
       "    </tr>\n",
       "  </thead>\n",
       "  <tbody>\n",
       "    <tr>\n",
       "      <th>0</th>\n",
       "      <td>2874.224552</td>\n",
       "      <td>9.424846</td>\n",
       "      <td>2876.318793</td>\n",
       "      <td>36.995997</td>\n",
       "    </tr>\n",
       "    <tr>\n",
       "      <th>1</th>\n",
       "      <td>2088.350837</td>\n",
       "      <td>7.595382</td>\n",
       "      <td>2093.063623</td>\n",
       "      <td>25.351925</td>\n",
       "    </tr>\n",
       "    <tr>\n",
       "      <th>2</th>\n",
       "      <td>1552.629638</td>\n",
       "      <td>4.974140</td>\n",
       "      <td>1560.552731</td>\n",
       "      <td>19.550836</td>\n",
       "    </tr>\n",
       "    <tr>\n",
       "      <th>3</th>\n",
       "      <td>1185.994963</td>\n",
       "      <td>4.133544</td>\n",
       "      <td>1198.669943</td>\n",
       "      <td>14.648669</td>\n",
       "    </tr>\n",
       "    <tr>\n",
       "      <th>4</th>\n",
       "      <td>943.402904</td>\n",
       "      <td>4.757288</td>\n",
       "      <td>962.349383</td>\n",
       "      <td>11.724038</td>\n",
       "    </tr>\n",
       "  </tbody>\n",
       "</table>\n",
       "</div>"
      ],
      "text/plain": [
       "   train-rmse-mean  train-rmse-std  test-rmse-mean  test-rmse-std\n",
       "0      2874.224552        9.424846     2876.318793      36.995997\n",
       "1      2088.350837        7.595382     2093.063623      25.351925\n",
       "2      1552.629638        4.974140     1560.552731      19.550836\n",
       "3      1185.994963        4.133544     1198.669943      14.648669\n",
       "4       943.402904        4.757288      962.349383      11.724038"
      ]
     },
     "execution_count": 68,
     "metadata": {},
     "output_type": "execute_result"
    }
   ],
   "source": [
    "#crossfold Validation\n",
    "results_reg=xgb.cv(\n",
    "    params = parameters,\n",
    "    dtrain = dtrain_reg,\n",
    "    num_boost_round=n,\n",
    "    early_stopping_rounds=20,\n",
    "    nfold=5\n",
    ")\n",
    "\n",
    "results_reg.head()"
   ]
  },
  {
   "cell_type": "code",
   "execution_count": 69,
   "id": "73a780a4-af28-4b89-9bdd-05b34005228c",
   "metadata": {},
   "outputs": [
    {
     "data": {
      "text/plain": [
       "550.2735543625861"
      ]
     },
     "execution_count": 69,
     "metadata": {},
     "output_type": "execute_result"
    }
   ],
   "source": [
    "results_reg['test-rmse-mean'].min()"
   ]
  }
 ],
 "metadata": {
  "kernelspec": {
   "display_name": "Python 3 (ipykernel)",
   "language": "python",
   "name": "python3"
  },
  "language_info": {
   "codemirror_mode": {
    "name": "ipython",
    "version": 3
   },
   "file_extension": ".py",
   "mimetype": "text/x-python",
   "name": "python",
   "nbconvert_exporter": "python",
   "pygments_lexer": "ipython3",
   "version": "3.11.8"
  }
 },
 "nbformat": 4,
 "nbformat_minor": 5
}
